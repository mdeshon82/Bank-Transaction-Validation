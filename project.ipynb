{
 "cells": [
  {
   "cell_type": "markdown",
   "metadata": {},
   "source": [
    "Import Libraries and setup logging"
   ]
  },
  {
   "cell_type": "code",
   "execution_count": null,
   "metadata": {},
   "outputs": [],
   "source": [
    "import pandas as pd\n",
    "import requests\n",
    "import logging\n",
    "import sqlite3\n",
    "import keys  # Import the keys module\n",
    "import os\n",
    "import json\n",
    "logging.basicConfig(level=logging.INFO, format='%(asctime)s - %(levelname)s - %(message)s')\n",
    "\n"
   ]
  },
  {
   "cell_type": "markdown",
   "metadata": {},
   "source": [
    "Load CSV and inspect columns"
   ]
  },
  {
   "cell_type": "code",
   "execution_count": null,
   "metadata": {},
   "outputs": [],
   "source": [
    "transactions = pd.read_csv('Data/transactions.csv')\n",
    "account_holders = pd.read_excel('Data/account_holders.xlsx')\n",
    "\n",
    "print(\"Transactions Columns:\", transactions.columns)\n",
    "print(\"Account Holders Columns:\", account_holders.columns)"
   ]
  },
  {
   "cell_type": "markdown",
   "metadata": {},
   "source": [
    "Remove Missing values"
   ]
  },
  {
   "cell_type": "code",
   "execution_count": null,
   "metadata": {},
   "outputs": [],
   "source": [
    "transactions.dropna(inplace=True)\n",
    "account_holders.dropna(inplace=True)"
   ]
  },
  {
   "cell_type": "markdown",
   "metadata": {},
   "source": [
    "Correcting data types"
   ]
  },
  {
   "cell_type": "code",
   "execution_count": null,
   "metadata": {},
   "outputs": [],
   "source": [
    "if 'transaction_date' in transactions.columns:\n",
    "    transactions['transaction_date'] = pd.to_datetime(transactions['transaction_date'])\n",
    "else:\n",
    "    logging.warning('Column transaction_date not found in transactions dataset.')\n",
    "\n",
    "if 'account_creation_date' in account_holders.columns:\n",
    "    account_holders['account_creation_date'] = pd.to_datetime(account_holders['account_creation_date'])\n",
    "else:\n",
    "    logging.warning('Column account_creation_date not found in account_holders dataset.')\n",
    "\n",
    "# Merging datasets\n",
    "if 'account_id' in transactions.columns and 'account_id' in account_holders.columns:\n",
    "    merged_data = pd.merge(transactions, account_holders, on='account_id', how='inner')\n",
    "else:\n",
    "    logging.error('account_id column not found in one of the datasets.')\n"
   ]
  },
  {
   "cell_type": "markdown",
   "metadata": {},
   "source": [
    "Display merged data"
   ]
  },
  {
   "cell_type": "code",
   "execution_count": null,
   "metadata": {},
   "outputs": [],
   "source": [
    "print(merged_data.head())\n"
   ]
  },
  {
   "cell_type": "markdown",
   "metadata": {},
   "source": [
    "Store merged_data in SQLite database"
   ]
  },
  {
   "cell_type": "code",
   "execution_count": null,
   "metadata": {},
   "outputs": [],
   "source": [
    "conn = sqlite3.connect('Data/cleaned_data.db')\n",
    "merged_data.to_sql('bank_transactions', conn, if_exists='replace', index=False)"
   ]
  },
  {
   "cell_type": "markdown",
   "metadata": {},
   "source": [
    "Fetch API Data"
   ]
  },
  {
   "cell_type": "code",
   "execution_count": null,
   "metadata": {},
   "outputs": [],
   "source": [
    "def fetch_exchange_rates(api_key):\n",
    "    url = f'https://openexchangerates.org/api/latest.json?app_id={api_key}'\n",
    "    try:\n",
    "        response = requests.get(url)\n",
    "        response.raise_for_status()  # Raise HTTPError for bad responses\n",
    "        logging.info('Successfully fetched exchange rates data.')\n",
    "        return response.json()\n",
    "    except requests.exceptions.RequestException as e:\n",
    "        logging.error(f'Error fetching exchange rates data: {e}')\n",
    "        return None\n",
    "\n",
    "# Function to fetch market data from the API\n",
    "def fetch_market_data(api_key, symbol):\n",
    "    url = f'https://www.alphavantage.co/query?function=TIME_SERIES_DAILY&symbol={symbol}&apikey={api_key}'\n",
    "    try:\n",
    "        response = requests.get(url)\n",
    "        response.raise_for_status()  # Raise HTTPError for bad responses\n",
    "        logging.info('Successfully fetched market data.')\n",
    "        return response.json()\n",
    "    except requests.exceptions.RequestException as e:\n",
    "        logging.error(f'Error fetching market data: {e}')\n",
    "        return None\n",
    "\n",
    "# Fetching data from APIs using keys from keys.py\n",
    "exchange_rates = fetch_exchange_rates(keys.EXCHANGE_RATES_API_KEY)\n",
    "market_data = fetch_market_data(keys.ALPHA_VANTAGE_API_KEY, keys.MARKET_SYMBOL)\n"
   ]
  },
  {
   "cell_type": "markdown",
   "metadata": {},
   "source": [
    "Store API data in SQLite"
   ]
  },
  {
   "cell_type": "code",
   "execution_count": null,
   "metadata": {},
   "outputs": [],
   "source": [
    "if exchange_rates:\n",
    "    # Convert exchange rates to a DataFrame\n",
    "    rates_df = pd.DataFrame(exchange_rates['rates'].items(), columns=['currency', 'rate'])\n",
    "    rates_df['timestamp'] = pd.to_datetime(exchange_rates['timestamp'], unit='s')\n",
    "    rates_df.to_sql('exchange_rates', conn, if_exists='replace', index=False)\n",
    "else:\n",
    "    logging.warning('Exchange rates data not available.')\n",
    "\n",
    "if market_data:\n",
    "    # Extract and convert market data to a DataFrame\n",
    "    market_df = pd.DataFrame(market_data['Time Series (Daily)']).T\n",
    "    market_df.index = pd.to_datetime(market_df.index)\n",
    "    market_df.reset_index(inplace=True)\n",
    "    market_df.rename(columns={'index': 'date'}, inplace=True)\n",
    "    market_df.to_sql('market_data', conn, if_exists='replace', index=False)\n",
    "else:\n",
    "    logging.warning('Market data not available.')\n"
   ]
  },
  {
   "cell_type": "markdown",
   "metadata": {},
   "source": [
    "Get Data from SQL and output to csv"
   ]
  },
  {
   "cell_type": "code",
   "execution_count": null,
   "metadata": {},
   "outputs": [],
   "source": [
    "# Example: Total transactions per account\n",
    "query1 = \"\"\"\n",
    "SELECT account_id, COUNT(transaction_id) as total_transactions\n",
    "FROM bank_transactions\n",
    "GROUP BY account_id\n",
    "\"\"\"\n",
    "total_transactions = pd.read_sql_query(query1, conn)\n",
    "total_transactions.to_csv('out/total_transactions_per_account.csv', index=False)\n",
    "print(total_transactions.head())\n",
    "\n",
    "# Example: Sum of transaction amounts per account\n",
    "query2 = \"\"\"\n",
    "SELECT account_id, SUM(transaction_amount) as total_amount\n",
    "FROM bank_transactions\n",
    "GROUP BY account_id\n",
    "\"\"\"\n",
    "total_amounts = pd.read_sql_query(query2, conn)\n",
    "total_amounts.to_csv('out/total_amounts_per_account.csv', index=False)\n",
    "print(total_amounts.head())\n",
    "\n",
    "# Example: Latest exchange rates\n",
    "query3 = \"\"\"\n",
    "SELECT * FROM exchange_rates\n",
    "\"\"\"\n",
    "exchange_rates_df = pd.read_sql_query(query3, conn)\n",
    "exchange_rates_df.to_csv('out/exchange_rates.csv', index=False)\n",
    "print(exchange_rates_df.head())\n",
    "\n",
    "# Example: Recent market data\n",
    "query4 = \"\"\"\n",
    "SELECT * FROM market_data\n",
    "\"\"\"\n",
    "market_data_df = pd.read_sql_query(query4, conn)\n",
    "market_data_df.to_csv('out/market_data.csv', index=False)\n",
    "print(market_data_df.head())\n",
    "\n",
    "conn.close()\n"
   ]
  }
 ],
 "metadata": {
  "language_info": {
   "name": "python"
  }
 },
 "nbformat": 4,
 "nbformat_minor": 2
}
